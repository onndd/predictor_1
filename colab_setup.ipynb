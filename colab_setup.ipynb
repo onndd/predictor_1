{
  "cells": [
    {
      "cell_type": "markdown",
      "metadata": {
        "id": "setup_header"
      },
      "source": [
        "# 🚀 Predictor_1 Google Colab Setup\n",
        "\n",
        "Bu notebook, JetX Predictor_1 projesini Google Colab'da çalıştırmak için gerekli kurulumları yapar.\n",
        "\n",
        "## 📋 Kurulum Adımları:\n",
        "1. **GPU Kontrolü** - CUDA desteği kontrol\n",
        "2. **Proje Klonlama** - GitHub'dan projeyi indir\n",
        "3. **Dependencies** - Gerekli kütüphaneleri yükle\n",
        "4. **Test** - Sistem testleri çalıştır\n",
        "\n",
        "---"
      ]
    },
    {
      "cell_type": "code",
      "execution_count": null,
      "metadata": {
        "id": "gpu_check"
      },
      "outputs": [],
      "source": [
        "# 🔍 GPU ve Sistem Kontrolü\n",
        "import torch\n",
        "import tensorflow as tf\n",
        "import sys\n",
        "import os\n",
        "\n",
        "print(\"🔍 SYSTEM CHECK\")\n",
        "print(\"=\" * 50)\n",
        "print(f\"Python: {sys.version}\")\n",
        "print(f\"PyTorch: {torch.__version__}\")\n",
        "print(f\"TensorFlow: {tf.__version__}\")\n",
        "print(f\"CUDA Available: {torch.cuda.is_available()}\")\n",
        "\n",
        "if torch.cuda.is_available():\n",
        "    print(f\"GPU Device: {torch.cuda.get_device_name(0)}\")\n",
        "    print(f\"GPU Memory: {torch.cuda.get_device_properties(0).total_memory / 1024**3:.1f} GB\")\n",
        "    print(f\"CUDA Version: {torch.version.cuda}\")\n",
        "else:\n",
        "    print(\"⚠️ GPU not available. Using CPU only.\")\n",
        "    print(\"💡 Runtime > Change runtime type > GPU\")"
      ]
    },
    {
      "cell_type": "code",
      "execution_count": null,
      "metadata": {
        "id": "clone_repo"
      },
      "outputs": [],
      "source": [
        "# 📥 GitHub Repository Klonlama\n",
        "import os\n",
        "\n",
        "# Eğer zaten klonlanmışsa, güncelle\n",
        "if os.path.exists('/content/predictor_1'):\n",
        "    print(\"📁 Proje zaten mevcut. Güncelleniyor...\")\n",
        "    %cd /content/predictor_1\n",
        "    !git pull origin main\n",
        "else:\n",
        "    print(\"📥 GitHub'dan proje klonlanıyor...\")\n",
        "    %cd /content\n",
        "    !git clone https://github.com/onndd/predictor_1.git\n",
        "    %cd predictor_1\n",
        "\n",
        "print(\"✅ Proje hazır!\")\n",
        "print(f\"📂 Çalışma dizini: {os.getcwd()}\")"
      ]
    },
    {
      "cell_type": "code",
      "execution_count": null,
      "metadata": {
        "id": "install_deps"
      },
      "outputs": [],
      "source": [
        "# 📦 Dependencies Yükleme\n",
        "print(\"📦 DEPENDENCIES YÜKLEME\")\n",
        "print(\"=\" * 50)\n",
        "\n",
        "# Önce requirements dosyasını kontrol et\n",
        "!ls -la *.txt\n",
        "\n",
        "# Enhanced requirements yükle\n",
        "print(\"\\n📥 Enhanced dependencies yükleniyor...\")\n",
        "!pip install -r requirements_enhanced.txt\n",
        "\n",
        "# Ek PyTorch ve ML kütüphaneleri\n",
        "print(\"\\n🔧 Ek ML kütüphaneleri...\")\n",
        "!pip install fastdtw\n",
        "!pip install optuna\n",
        "!pip install plotly\n",
        "!pip install seaborn\n",
        "\n",
        "print(\"\\n✅ Tüm dependencies yüklendi!\")"
      ]
    },
    {
      "cell_type": "code",
      "execution_count": null,
      "metadata": {
        "id": "setup_paths"
      },
      "outputs": [],
      "source": [
        "# 🔧 Python Path Kurulumu\n",
        "import sys\n",
        "import os\n",
        "\n",
        "# Proje dizinini Python path'e ekle\n",
        "project_root = '/content/predictor_1'\n",
        "src_path = os.path.join(project_root, 'src')\n",
        "\n",
        "if src_path not in sys.path:\n",
        "    sys.path.insert(0, src_path)\n",
        "    print(f\"✅ {src_path} Python path'e eklendi\")\n",
        "\n",
        "# Dizin yapısını kontrol et\n",
        "print(\"\\n📁 PROJE YAPISINI KONTROL ET\")\n",
        "print(\"=\" * 40)\n",
        "for root, dirs, files in os.walk('src'):\n",
        "    level = root.replace('src', '').count(os.sep)\n",
        "    indent = ' ' * 2 * level\n",
        "    print(f\"{indent}{os.path.basename(root)}/\")\n",
        "    subindent = ' ' * 2 * (level + 1)\n",
        "    for file in files[:3]:  # İlk 3 dosyayı göster\n",
        "        if file.endswith('.py'):\n",
        "            print(f\"{subindent}{file}\")\n",
        "    if len(files) > 3:\n",
        "        print(f\"{subindent}... ({len(files)-3} more files)\")"
      ]
    },
    {
      "cell_type": "code",
      "execution_count": null,
      "metadata": {
        "id": "test_imports"
      },
      "outputs": [],
      "source": [
        "# 🧪 Import Testleri\n",
        "print(\"🧪 IMPORT TESTLERI\")\n",
        "print(\"=\" * 50)\n",
        "\n",
        "# Test import'ları\n",
        "try:\n",
        "    from data_processing.loader import load_data_from_sqlite\n",
        "    print(\"✅ Data Processing: loader\")\n",
        "except ImportError as e:\n",
        "    print(f\"❌ Data Processing loader: {e}\")\n",
        "\n",
        "try:\n",
        "    from data_processing.transformer import transform_to_categories\n",
        "    print(\"✅ Data Processing: transformer\")\n",
        "except ImportError as e:\n",
        "    print(f\"❌ Data Processing transformer: {e}\")\n",
        "\n",
        "try:\n",
        "    from models.deep_learning.n_beats.n_beats_model import NBeatsPredictor\n",
        "    print(\"✅ Models: N-Beats\")\n",
        "except ImportError as e:\n",
        "    print(f\"❌ N-Beats model: {e}\")\n",
        "\n",
        "try:\n",
        "    from models.deep_learning.tft.tft_model import TFTPredictor\n",
        "    print(\"✅ Models: TFT\")\n",
        "except ImportError as e:\n",
        "    print(f\"❌ TFT model: {e}\")\n",
        "\n",
        "try:\n",
        "    from models.sequential.lstm_model import ModernLSTMModel\n",
        "    print(\"✅ Models: LSTM\")\n",
        "except ImportError as e:\n",
        "    print(f\"❌ LSTM model: {e}\")\n",
        "\n",
        "try:\n",
        "    from models.ml_models import RandomForestJetXPredictor\n",
        "    print(\"✅ Models: Random Forest\")\n",
        "except ImportError as e:\n",
        "    print(f\"❌ Random Forest: {e}\")\n",
        "\n",
        "print(\"\\n🎯 Import testleri tamamlandı!\")"
      ]
    },
    {
      "cell_type": "code",
      "execution_count": null,
      "metadata": {
        "id": "run_system_test"
      },
      "outputs": [],
      "source": [
        "# 🔍 Sistem Testleri\n",
        "print(\"🔍 SISTEM TESTLERI\")\n",
        "print(\"=\" * 50)\n",
        "\n",
        "# Data processing testini çalıştır\n",
        "print(\"📊 Data Processing testi çalıştırılıyor...\")\n",
        "!python3 test_data_processing.py\n",
        "\n",
        "print(\"\\n🎉 Sistem testleri tamamlandı!\")"
      ]
    },
    {
      "cell_type": "code",
      "execution_count": null,
      "metadata": {
        "id": "create_sample_data"
      },
      "outputs": [],
      "source": [
        "# 📊 Örnek JetX Verisi Oluşturma\n",
        "import numpy as np\n",
        "import sqlite3\n",
        "from data_processing.loader import save_result_to_sqlite\n",
        "\n",
        "print(\"📊 ÖRNEK JETX VERİSİ OLUŞTURMA\")\n",
        "print(\"=\" * 50)\n",
        "\n",
        "# Gerçekçi JetX verisi simülasyonu\n",
        "np.random.seed(42)\n",
        "sample_data = []\n",
        "\n",
        "for i in range(1000):\n",
        "    # JetX dağılımını simüle et\n",
        "    rand = np.random.random()\n",
        "    \n",
        "    if rand < 0.25:  # %25 crash (1.0-1.5)\n",
        "        value = np.random.uniform(1.0, 1.49)\n",
        "    elif rand < 0.45:  # %20 düşük (1.5-2.5)\n",
        "        value = np.random.uniform(1.5, 2.5)\n",
        "    elif rand < 0.70:  # %25 orta (2.5-5.0)\n",
        "        value = np.random.uniform(2.5, 5.0)\n",
        "    elif rand < 0.90:  # %20 yüksek (5.0-20.0)\n",
        "        value = np.random.uniform(5.0, 20.0)\n",
        "    else:  # %10 çok yüksek (20.0+)\n",
        "        value = np.random.exponential(10.0) + 20.0\n",
        "    \n",
        "    sample_data.append(round(value, 2))\n",
        "\n",
        "# SQLite'a kaydet\n",
        "db_path = \"/content/colab_jetx_data.db\"\n",
        "for value in sample_data:\n",
        "    save_result_to_sqlite(value, db_path)\n",
        "\n",
        "print(f\"✅ {len(sample_data)} JetX verisi oluşturuldu ve kaydedildi\")\n",
        "print(f\"📂 Veritabanı: {db_path}\")\n",
        "print(f\"📊 İstatistikler:\")\n",
        "print(f\"   - Min: {min(sample_data):.2f}\")\n",
        "print(f\"   - Max: {max(sample_data):.2f}\")\n",
        "print(f\"   - Ortalama: {np.mean(sample_data):.2f}\")\n",
        "print(f\"   - Crash oranı (<1.5): {sum(1 for x in sample_data if x < 1.5)/len(sample_data)*100:.1f}%\")\n",
        "\n",
        "# Global değişken olarak sakla\n",
        "SAMPLE_DATA = sample_data\n",
        "DB_PATH = db_path\n",
        "\n",
        "print(\"\\n🎯 Veri model eğitimi için hazır!\")"
      ]
    },
    {
      "cell_type": "markdown",
      "metadata": {
        "id": "next_steps"
      },
      "source": [
        "# 🎯 Sonraki Adımlar\n",
        "\n",
        "Kurulum tamamlandı! Artık model eğitimi için hazır notebook'ları kullanabilirsiniz:\n",
        "\n",
        "## 📚 Eğitim Notebook'ları:\n",
        "1. **`nbeats_training.ipynb`** - N-Beats model eğitimi\n",
        "2. **`tft_training.ipynb`** - TFT model eğitimi  \n",
        "3. **`lstm_training.ipynb`** - LSTM model eğitimi\n",
        "4. **`ensemble_training.ipynb`** - Ensemble model eğitimi\n",
        "\n",
        "## 🚀 Kullanım:\n",
        "- Her notebook'u ayrı ayrı çalıştırabilirsiniz\n",
        "- GPU desteği otomatik aktif olacak\n",
        "- Eğitilmiş modeller `/content/trained_models/` dizininde saklanacak\n",
        "\n",
        "## 💡 İpuçları:\n",
        "- Runtime > Change runtime type > GPU seçin\n",
        "- Eğitim süresini takip edin (12 saat limit)\n",
        "- Önemli modelleri Google Drive'a kaydedin\n",
        "\n",
        "---\n",
        "\n",
        "**🎉 Başarıyla kurulum tamamlandı! Model eğitimine geçebilirsiniz.**"
      ]
    }
  ],
  "metadata": {
    "accelerator": "GPU",
    "colab": {
      "gpuType": "T4",
      "provenance": []
    },
    "kernelspec": {
      "display_name": "Python 3",
      "name": "python3"
    },
    "language_info": {
      "name": "python"
    }
  },
  "nbformat": 4,
  "nbformat_minor": 0
}
