{
 "cells": [
  {
   "cell_type": "markdown",
   "metadata": {},
   "source": [
    "# 🚀 Tam Otomatik JetX Model Eğitmeni (v3.0)\n",
    "\n",
    "Bu not defteri, JetX tahmin sistemi için yeniden yapılandırılmış ve tam otomatik bir eğitim akışı sağlar.\n",
    "\n",
    "## ✨ Yeni Özellikler (v3.0)\n",
    "\n",
    "- **Otomatik Hiperparametre Optimizasyonu (HPO):** `Optuna` entegrasyonu ile her model için en iyi hiperparametreler otomatik olarak bulunur.\n",
    "- **Deney Takibi:** `MLflow` entegrasyonu ile tüm eğitim süreçleri, metrikler ve modeller kaydedilir ve izlenebilir.\n",
    "- **Merkezi Yapılandırma:** Tüm ayarlar artık proje kök dizinindeki `config.yaml` dosyasından yönetilir.\n",
    "- **Kod Standardizasyonu:** Proje tamamen `PyTorch` üzerine odaklanmış, eski ve kullanılmayan kodlar temizlenmiştir.\n",
    "\n",
    "**⚠️ Başlamadan Önce: Runtime > Change runtime type > GPU seçeneğini etkinleştirin!**"
   ]
  },
  {
   "cell_type": "markdown",
   "metadata": {},
   "source": [
    "## 🛠️ 1. Sistem Kurulumu ve Projeyi Yükleme"
   ]
  },
  {
   "cell_type": "code",
   "metadata": {
    "id": "install_dependencies"
   },
   "source": [
    "import os\n",
    "import sys\n",
    "import subprocess\n",
    "\n",
    "def setup_environment():\n",
    "    \"\"\"Clones or updates the repository and sets up the environment.\"\"\"\n",
    "    repo_url = \"https://github.com/onndd/predictor_1.git\"\n",
    "    project_dir = \"/content/predictor_1\"\n",
    "\n",
    "    if os.path.exists(project_dir):\n",
    "        print(\"📁 Proje zaten mevcut. Güncelleniyor...\")\n",
    "        os.chdir(project_dir)\n",
    "        subprocess.run([\"git\", \"pull\", \"origin\", \"main\"], check=True, capture_output=True)\n",
    "    else:\n",
    "        print(\"📥 GitHub'dan proje klonlanıyor...\")\n",
    "        os.chdir(\"/content\")\n",
    "        subprocess.run([\"git\", \"clone\", repo_url], check=True, capture_output=True)\n",
    "        os.chdir(project_dir)\n",
    "\n",
    "    # Add src to Python path\n",
    "    src_path = os.path.join(project_dir, \"src\")\n",
    "    if src_path not in sys.path:\n",
    "        sys.path.insert(0, src_path)\n",
    "        print(f\"✅ {src_path} Python path'e eklendi\")\n",
    "\n",
    "    # Install dependencies\n",
    "    requirements_path = os.path.join(project_dir, 'requirements_enhanced.txt')\n",
    "    if os.path.exists(requirements_path):\n",
    "        print(\"📦 Gerekli kütüphaneler yükleniyor...\")\n",
    "        # --quiet bayrağı kaldırıldı\n",
    "        subprocess.check_call([sys.executable, \"-m\", \"pip\", \"install\", \"-r\", requirements_path])\n",
    "        print(\"✅ Kütüphaneler başarıyla yüklendi.\")\n",
    "\n",
    "setup_environment()\n",
    "print(\"🎉 Kurulum tamamlandı!\")"
   ],
   "outputs": []
  },
  {
   "cell_type": "markdown",
   "metadata": {},
   "source": [
    "## 📊 2. MLflow Deney Takibini Başlatma\n",
    "\n",
    "Bu hücre, MLflow arayüzünü başlatır ve `ngrok` kullanarak size erişebileceğiniz bir public URL verir. Eğitim metriklerini ve sonuçlarını bu arayüzden takip edebilirsiniz."
   ]
  },
  {
   "cell_type": "code",
   "metadata": {
    "id": "start_mlflow"
   },
   "source": [
    "# ngrok kurulumu\n",
    "!pip install pyngrok --quiet\n",
    "\n",
    "# MLflow UI'ı arka planda başlat\n",
    "get_ipython().system_raw('mlflow ui --host 0.0.0.0 &')\n",
    "\n",
    "# ngrok ile public URL oluştur\n",
    "from pyngrok import ngrok\n",
    "print(\"✅ MLflow arayüzü için public URL oluşturuluyor...\")\n",
    "print(\"👇 Aşağıdaki linke tıklayarak deneyleri izleyebilirsiniz:\")\n",
    "print(ngrok.connect(5000))"
   ],
   "outputs": []
  },
  {
   "cell_type": "markdown",
   "metadata": {},
   "source": [
    "## 🚀 3. Otomatik Eğitim Sürecini Başlatma"
   ]
  },
  {
   "cell_type": "code",
   "metadata": {
    "id": "run_training"
   },
   "source": [
    "import torch\n",
    "from src.training.master_trainer import MasterTrainer\n",
    "import traceback\n",
    "\n",
    "# Cihaz tespiti (GPU veya CPU)\n",
    "device = 'cuda' if torch.cuda.is_available() else 'cpu'\n",
    "if device == 'cuda':\n",
    "    print(f\"✅ GPU bulundu: {torch.cuda.get_device_name(0)}\")\n",
    "else:\n",
    "    print(\"⚠️ GPU bulunamadı. Eğitim CPU ile devam edecek.\")\n",
    "\n",
    "try:\n",
    "    # MasterTrainer'ı başlat ve tüm eğitim sürecini çalıştır.\n",
    "    # Bu işlem HPO, eğitim ve MLflow kaydını içerir.\n",
    "    master_trainer = MasterTrainer(models_to_train=['N-Beats', 'TFT', 'LSTM'], device=device)\n",
    "    master_trainer.run()\n",
    "except Exception as e:\n",
    "    print(f\"❌ Eğitim sırasında beklenmedik bir hata oluştu: {e}\")\n",
    "    traceback.print_exc()"
   ],
   "outputs": []
  }
 ],
 "metadata": {
  "kernelspec": {
   "display_name": "Python 3",
   "name": "python3"
  },
  "language_info": {
   "name": "python"
  }
 },
 "nbformat": 4,
 "nbformat_minor": 2
}
