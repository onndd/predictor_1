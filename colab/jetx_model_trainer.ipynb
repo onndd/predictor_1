{
 "cells": [
  {
   "cell_type": "markdown",
   "metadata": {},
   "source": [
    "# 🚀 İnteraktif JetX Model Eğitmeni (v4.0)\n",
    "Bu not defteri, JetX tahmin sistemi için **interaktif** ve tam otomatik bir eğitim akışı sağlar.\n",
    "\n",
    "## ✨ Yeni Özellikler (v4.0)\n",
    "- **İnteraktif Model Seçimi:** Kod yazmadan, sadece onay kutularını (checkbox) işaretleyerek eğitmek istediğiniz modelleri seçin.\n",
    "- **Otomatik HPO & MLflow:** `Optuna` ve `MLflow` entegrasyonları ile en iyi hiperparametreler bulunur ve tüm süreç izlenir.\n",
    "- **Kararlı Çalışma:** Önceki sürümlerdeki kritik hatalar giderildi ve yeni doğruluk metriği eklendi.\n",
    "\n",
    "**⚠️ Başlamadan Önce: Runtime > Change runtime type > GPU seçeneğini etkinleştirin!**"
   ]
  },
  {
   "cell_type": "markdown",
   "metadata": {},
   "source": [
    "## 🛠️ 1. Sistem Kurulumu ve Projeyi Yükleme\n",
    "Bu hücre, projeyi GitHub'dan klonlar (veya günceller) ve gerekli tüm kütüphaneleri yükler."
   ]
  },
  {
   "cell_type": "code",
   "execution_count": null,
   "metadata": {},
   "outputs": [],
   "source": [
    "import os\n",
    "import sys\n",
    "import subprocess\n",
    "\n",
    "def setup_environment():\n",
    "    \"\"\"Clones or updates the repository and sets up the environment.\"\"\"\n",
    "    repo_url = \"https://github.com/onndd/predictor_1.git\"\n",
    "    project_dir = \"/content/predictor_1\"\n",
    "\n",
    "    if os.path.exists(project_dir):\n",
    "        print(\"📁 Proje zaten mevcut. Güncelleniyor...\")\n",
    "        os.chdir(project_dir)\n",
    "        subprocess.run([\"git\", \"pull\", \"origin\", \"main\"], check=True, capture_output=True)\n",
    "    else:\n",
    "        print(\"📥 GitHub'dan proje klonlanıyor...\")\n",
    "        os.chdir(\"/content\")\n",
    "        subprocess.run([\"git\", \"clone\", repo_url], check=True, capture_output=True)\n",
    "        os.chdir(project_dir)\n",
    "\n",
    "    # Add src to Python path\n",
    "    src_path = os.path.join(project_dir, \"src\")\n",
    "    if src_path not in sys.path:\n",
    "        sys.path.insert(0, src_path)\n",
    "        print(f\"✅ {src_path} Python path'e eklendi\")\n",
    "\n",
    "    # Install dependencies\n",
    "    requirements_path = os.path.join(project_dir, 'requirements_enhanced.txt')\n",
    "    if os.path.exists(requirements_path):\n",
    "        print(\"📦 Gerekli kütüphaneler yükleniyor...\")\n",
    "        subprocess.check_call([sys.executable, \"-m\", \"pip\", \"install\", \"-q\", \"-r\", requirements_path])\n",
    "        print(\"✅ Kütüphaneler başarıyla yüklendi.\")\n",
    "\n",
    "setup_environment()\n",
    "print(\"🎉 Kurulum tamamlandı!\")"
   ]
  },
  {
   "cell_type": "markdown",
   "metadata": {},
   "source": [
    "## 📊 2. MLflow Deney Takibini Başlatma\n",
    "Bu hücre, MLflow arayüzünü başlatır ve `ngrok` kullanarak size erişebileceğiniz bir public URL verir. Lütfen aşağıdaki hücreye ngrok authtoken'ınızı girin."
   ]
  },
  {
   "cell_type": "code",
   "execution_count": null,
   "metadata": {},
   "outputs": [],
   "source": [
    "from getpass import getpass\n",
    "from colab.health_check import ColabHealthCheck\n",
    "import time\n",
    "\n",
    "# ngrok authtoken'ınızı buraya girin\n",
    "NGROK_AUTH_TOKEN = getpass('Lütfen ngrok authtokeninizi girin: ')\n",
    "\n",
    "# ngrok bağlantısını önceden test et\n",
    "health_checker = ColabHealthCheck()\n",
    "ngrok_ok, error_message = health_checker.check_ngrok_tunnel(NGROK_AUTH_TOKEN)\n",
    "\n",
    "if ngrok_ok:\n",
    "    print(\"✅ ngrok bağlantı testi başarılı.\")\n",
    "    \n",
    "    # MLflow UI'ı arka planda başlat\n",
    "    get_ipython().system_raw('mlflow ui --host 0.0.0.0 &')\n",
    "    \n",
    "    # Give MLflow a moment to start\n",
    "    time.sleep(5)\n",
    "    \n",
    "    print(\"\\n✅ MLflow arayüzü için public URL oluşturuluyor...\")\n",
    "    print(\"👇 Aşağıdaki linke tıklayarak deneyleri izleyebilirsiniz:\")\n",
    "    \n",
    "    try:\n",
    "        from pyngrok import ngrok\n",
    "        public_url = ngrok.connect(5000, \"http\").public_url\n",
    "        print(f\"--> {public_url}\")\n",
    "    except Exception as e:\n",
    "        print(f\"❌ ngrok tüneli oluşturulamadı. Hata: {e}\")\n",
    "else:\n",
    "    print(f\"\\n❌ ngrok ön kontrolü başarısız oldu. Lütfen authtoken'ınızı ve internet bağlantınızı kontrol edin.\")\n",
    "    print(f\"   Hata Detayı: {error_message}\")"
   ]
  },
  {
   "cell_type": "markdown",
   "metadata": {},
   "source": [
    "## 🚀 3. Modelleri Seç ve Eğitimi Başlat\n",
    "Aşağıdaki arayüzü kullanarak eğitmek istediğiniz modelleri seçin ve butona tıklayarak eğitimi başlatın."
   ]
  },
  {
   "cell_type": "code",
   "execution_count": null,
   "metadata": {},
   "outputs": [],
   "source": [
    "import torch\n",
    "import ipywidgets as widgets\n",
    "from IPython.display import display\n",
    "from src.training.master_trainer import MasterTrainer\n",
    "from src.config.settings import get_aggressive_training_profiles\n",
    "import traceback\n",
    "\n",
    "# Eğitilebilir modelleri al\n",
    "available_models = list(get_aggressive_training_profiles().keys())\n",
    "\n",
    "# Arayüz elemanlarını oluştur\n",
    "model_checkboxes = [widgets.Checkbox(value=False, description=model) for model in available_models]\n",
    "start_button = widgets.Button(description=\"Eğitimi Başlat\", button_style='success', icon='rocket')\n",
    "output_area = widgets.Output()\n",
    "\n",
    "def on_button_clicked(b):\n",
    "    with output_area:\n",
    "        output_area.clear_output()\n",
    "        selected_models = [cb.description for cb in model_checkboxes if cb.value]\n",
    "        \n",
    "        if not selected_models:\n",
    "            print(\"⚠️ Lütfen en az bir model seçin!\")\n",
    "            return\n",
    "        \n",
    "        print(f\"🚀 Seçilen modellerle eğitim başlatılıyor: {', '.join(selected_models)}\")\n",
    "        \n",
    "        # Cihaz tespiti\n",
    "        device = 'cuda' if torch.cuda.is_available() else 'cpu'\n",
    "        if device == 'cuda':\n",
    "            print(f\"✅ GPU bulundu: {torch.cuda.get_device_name(0)}\")\n",
    "        else:\n",
    "            print(\"⚠️ GPU bulunamadı. Eğitim CPU ile devam edecek.\")\n",
    "            \n",
    "        try:\n",
    "            master_trainer = MasterTrainer(models_to_train=selected_models, device=device)\n",
    "            master_trainer.run()\n",
    "        except Exception as e:\n",
    "            print(f\"❌ Eğitim sırasında beklenmedik bir hata oluştu: {e}\")\n",
    "            traceback.print_exc()\n",
    "\n",
    "start_button.on_click(on_button_clicked)\n",
    "\n",
    "# Arayüzü göster\n",
    "print(\"Eğitmek istediğiniz modelleri seçin:\")\n",
    "ui = widgets.VBox(model_checkboxes + [start_button, output_area])\n",
    "display(ui)"
   ]
  }
 ],
 "metadata": {
  "colab": {
   "collapsed_sections": [],
   "provenance": []
  },
  "kernelspec": {
   "display_name": "Python 3",
   "name": "python3"
  },
  "language_info": {
   "name": "python"
  }
 },
 "nbformat": 4,
 "nbformat_minor": 0
}
