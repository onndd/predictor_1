{
 "cells": [
  {
   "cell_type": "markdown",
   "metadata": {},
   "source": [
    "# 🚀 Tam Otomatik JetX Model Eğitmeni (v2.0)\n\n",
    "Bu not defteri, JetX tahmin sistemi için yeniden yapılandırılmış ve tam otomatik bir eğitim akışı sağlar.\n\n",
    "## ✨ Özellikler\n",
    "- **Tam Otomatik**: Tek bir komutla tüm süreci çalıştırır.\n",
    "- **Merkezi Yönetim**: Tüm mantık ve konfigürasyon `src` klasöründe yönetilir.\n",
    "- **Agresif Optimizasyon**: Modeller, `settings.py` içinde tanımlanan yüksek performanslı profillerle eğitilir.\n",
    "- **Modüler ve Temiz Kod**: Bakımı ve genişletilmesi kolay, yeniden yapılandırılmış kod tabanı.\n\n",
    "**⚠️ Başlamadan Önce: Runtime > Change runtime type > GPU seçeneğini etkinleştirin!**"
   ]
  },
  {
   "cell_type": "code",
   "execution_count": null,
   "metadata": {},
   "outputs": [],
   "source": [
    "# 🛠️ 1. Sistem Kurulumu ve Projeyi Yükleme\n",
    "import os\n",
    "import sys\n",
    "import subprocess\n\n",
    "def setup_environment():\n",
    "    \"\"\"Clones or updates the repository and sets up the environment.\"\"\"\n",
    "    repo_url = \"https://github.com/onndd/predictor_1.git\"\n",
    "    project_dir = \"/content/predictor_1\"\n\n",
    "    if os.path.exists(project_dir):\n",
    "        print(\"📁 Proje zaten mevcut. Güncelleniyor...\")\n",
    "        os.chdir(project_dir)\n",
    "        subprocess.run([\"git\", \"pull\", \"origin\", \"main\"], check=True, capture_output=True)\n",
    "    else:\n",
    "        print(\"📥 GitHub'dan proje klonlanıyor...\")\n",
    "        os.chdir(\"/content\")\n",
    "        subprocess.run([\"git\", \"clone\", repo_url], check=True, capture_output=True)\n",
    "        os.chdir(project_dir)\n\n",
    "    # Add src to Python path\n",
    "    src_path = os.path.join(project_dir, \"src\")\n",
    "    if src_path not in sys.path:\n",
    "        sys.path.insert(0, src_path)\n",
    "        print(f\"✅ {src_path} Python path'e eklendi\")\n\n",
    "    # Install dependencies\n",
    "    requirements_path = os.path.join(project_dir, 'requirements_enhanced.txt')\n",
    "    if os.path.exists(requirements_path):\n",
    "        print(\"📦 Gerekli kütüphaneler yükleniyor...\")\n",
    "        subprocess.check_call([sys.executable, \"-m\", \"pip\", \"install\", \"-r\", requirements_path, \"--quiet\"])\n",
    "        print(\"✅ Kütüphaneler başarıyla yüklendi.\")\n\n",
    "setup_environment()\n",
    "print(\"🎉 Kurulum tamamlandı!\")"
   ]
  },
  {
   "cell_type": "code",
   "execution_count": null,
   "metadata": {},
   "outputs": [],
   "source": [
    "# 🏗️ 2. Gerekli Sınıfların İçe Aktarılması\n",
    "import torch\n\n",
    "# Check for GPU\n",
    "if torch.cuda.is_available():\n",
    "    print(f\"✅ GPU bulundu: {torch.cuda.get_device_name(0)}\")\n",
    "    device = 'cuda'\n",
    "else:\n",
    "    print(\"⚠️ GPU bulunamadı. CPU ile devam edilecek.\")\n",
    "    device = 'cpu'\n\n",
    "try:\n",
    "    from src.training.master_trainer import MasterTrainer\n",
    "    print(\"✅ MasterTrainer başarıyla içe aktarıldı.\")\n",
    "except ImportError as e:\n",
    "    print(f\"❌ MasterTrainer içe aktarılamadı: {e}\")"
   ]
  },
  {
   "cell_type": "code",
   "execution_count": null,
   "metadata": {},
   "outputs": [],
   "source": [
    "# 🚀 3. Otomatik Eğitim Sürecini Başlatma\n",
    "try:\n",
    "    # MasterTrainer'ı başlat ve tüm eğitim sürecini çalıştır.\n",
    "    # Hangi modelleri eğiteceğinizi buradan belirleyebilirsiniz.\n",
    "    # None bırakırsanız, settings.py'deki tüm profilleri eğitir.\n",
    "    master_trainer = MasterTrainer(models_to_train=['N-Beats', 'TFT', 'LSTM'])\n",
    "    master_trainer.run()\n",
    "except NameError:\n",
    "    print(\"❌ MasterTrainer tanımlı değil. Lütfen bir önceki hücrenin hatasız çalıştığından emin olun.\")\n",
    "except Exception as e:\n",
    "    import traceback\n",
    "    print(f\"❌ Eğitim sırasında beklenmedik bir hata oluştu: {e}\")\n",
    "    traceback.print_exc()"
   ]
  }
 ],
 "metadata": {
  "kernelspec": {
   "display_name": "Python 3",
   "language": "python",
   "name": "python3"
  },
  "language_info": {
   "name": "python",
   "version": "3.10"
  }
 },
 "nbformat": 4,
 "nbformat_minor": 4
}
