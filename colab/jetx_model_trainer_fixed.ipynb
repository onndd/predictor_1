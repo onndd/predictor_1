{
 "cells": [
  {
   "cell_type": "markdown",
   "metadata": {},
   "source": [
    "# 🚀 İnteraktif JetX Model Eğitmeni (v5.0 - Colab Formları ile Kararlı Sürüm)"
   ]
  },
  {
   "cell_type": "markdown",
   "metadata": {},
   "source": [
    "### 🛠️ 1. Kurulum (Tek Adım)"
   ]
  },
  {
   "cell_type": "markdown",
   "metadata": {},
   "source": [
    "**Lütfen sadece bu hücreyi çalıştırın ve tamamlanmasını bekleyin.**\n",
    "\n",
    "Bu hücre, gerekli tüm adımları otomatik olarak gerçekleştirir:\n",
    "\n",
    "1.  **Projeyi Klonlar/Günceller:** Gerekli kodları GitHub'dan çeker.\n",
    "2.  **Kütüphaneleri Yükler:** `requirements_enhanced.txt` dosyasındaki tüm bağımlılıkları kurar.\n",
    "3.  **Python Path'i Ayarlar:** Proje kaynak kodunun import edilebilmesini sağlar."
   ]
  },
  {
   "cell_type": "code",
   "execution_count": null,
   "metadata": {},
   "outputs": [],
   "source": [
    "import os\n",
    "import sys\n",
    "import subprocess\n",
    "\n",
    "def setup_environment():\n",
    "    \"\"\"Clones or updates the repository and sets up the environment.\"\"\"\n",
    "    repo_url = \"https://github.com/onndd/predictor_1.git\"\n",
    "    project_dir = \"/content/predictor_1\"\n",
    "\n",
    "    if os.path.exists(project_dir):\n",
    "        print(\"📁 Proje zaten mevcut. Güncelleniyor...\")\n",
    "        os.chdir(project_dir)\n",
    "        subprocess.run([\"git\", \"stash\"], check=True, capture_output=True)\n",
    "        subprocess.run([\"git\", \"pull\", \"origin\", \"main\"], check=True, capture_output=True)\n",
    "        subprocess.run([\"git\", \"stash\", \"pop\"], check=False, capture_output=True)\n",
    "    else:\n",
    "        print(\"📥 GitHub'dan proje klonlanıyor...\")\n",
    "        os.chdir(\"/content\")\n",
    "        subprocess.run([\"git\", \"clone\", repo_url], check=True, capture_output=True)\n",
    "        os.chdir(project_dir)\n",
    "\n",
    "    src_path = os.path.join(project_dir, \"src\")\n",
    "    if src_path not in sys.path:\n",
    "        sys.path.insert(0, src_path)\n",
    "        print(f\"✅ {src_path} Python path'e eklendi\")\n",
    "\n",
    "    requirements_path = os.path.join(project_dir, 'requirements_enhanced.txt')\n",
    "    if os.path.exists(requirements_path):\n",
    "        print(\"📦 Gerekli kütüphaneler yükleniyor...\")\n",
    "        subprocess.check_call([sys.executable, \"-m\", \"pip\", \"install\", \"-q\", \"-r\", requirements_path])\n",
    "        print(\"✅ Kütüphaneler başarıyla yüklendi.\")\n",
    "\n",
    "try:\n",
    "    setup_environment()\n",
    "    print(\"\\n🎉 Kurulum başarıyla tamamlandı! Sonraki hücreye geçebilirsiniz.\")\n",
    "except Exception as e:\n",
    "    print(f\"\\n❌ Kurulum sırasında bir hata oluştu: {e}\")"
   ]
  },
  {
   "cell_type": "markdown",
   "metadata": {},
   "source": [
    "## 📊 2. MLflow Deney Takibini Başlatma (İsteğe Bağlı)"
   ]
  },
  {
   "cell_type": "markdown",
   "metadata": {},
   "source": [
    "Eğitim sürecini ve metrikleri detaylı olarak izlemek isterseniz bu hücreyi çalıştırabilirsiniz. Sizden bir `ngrok` token isteyecektir."
   ]
  },
  {
   "cell_type": "code",
   "execution_count": null,
   "metadata": {},
   "outputs": [],
   "source": [
    "from getpass import getpass\n",
    "from colab.health_check import ColabHealthCheck\n",
    "import time\n",
    "from pyngrok import ngrok\n",
    "\n",
    "NGROK_AUTH_TOKEN = getpass('Lütfen ngrok authtokeninizi girin: ')\n",
    "\n",
    "try:\n",
    "    ngrok.set_auth_token(NGROK_AUTH_TOKEN)\n",
    "    print(\"✅ ngrok token ayarlandı.\")\n",
    "    get_ipython().system_raw('mlflow ui --host 0.0.0.0 &')\n",
    "    time.sleep(5)\n",
    "    public_url = ngrok.connect(5000, \"http\").public_url\n",
    "    print(\"\\n✅ MLflow arayüzü için public URL oluşturuldu.\")\n",
    "    print(f\"👇 Deneyleri izlemek için tıklayın: {public_url}\")\n",
    "except Exception as e:\n",
    "    print(f\"\\n❌ MLflow başlatılamadı. Lütfen authtoken'ınızı kontrol edin. Hata: {e}\")"
   ]
  },
  {
   "cell_type": "code",
   "execution_count": null,
   "metadata": {
    "id": "main_training_cell"
   },
   "outputs": [],
   "source": [
    "#@title 🚀 3. Modelleri Seç, Eğit ve İndir\n",
    "#@markdown ---\n",
    "#@markdown ### **Eğitmek istediğiniz modelleri seçin**\n",
    "#@markdown Lütfen aşağıdaki listeden eğitmek istediğiniz modelleri işaretleyin ve ardından hücreyi çalıştırın (▶️ butonu).\n",
    "#@markdown ---\n",
    "\n",
    "# --- Gerekli Kütüphaneler ve Ayarlar ---\n",
    "import torch\n",
    "from IPython.display import display, FileLink\n",
    "import traceback\n",
    "from src.training.pipeline_manager import PipelineManager\n",
    "from src.config.settings import get_all_models\n",
    "\n",
    "# --- Mevcut Modelleri Yükle ve Formu Oluştur ---\n",
    "try:\n",
    "    all_models_list = get_all_models()\n",
    "    print(f\"✅ MEVCUT MODELLER: {', '.join(all_models_list)}\")\n",
    "except Exception as e:\n",
    "    print(f\"❌ Modeller yüklenemedi. `config.yaml` dosyasını kontrol edin. Hata: {e}\")\n",
    "    all_models_list = []\n",
    "\n",
    "#@markdown\n",
    "#@markdown **Model Seçimi:**\n",
    "N_Beats = False #@param {type:\"boolean\"}\n",
    "TFT = False #@param {type:\"boolean\"}\n",
    "LSTM = False #@param {type:\"boolean\"}\n",
    "\n",
    "# --- Ana Eğitim Fonksiyonu ---\n",
    "def run_training_from_form(selected_models):\n",
    "    if not selected_models:\n",
    "        print(\"\\n⚠️ Lütfen yukarıdan en az bir model seçip hücreyi tekrar çalıştırın.\")\n",
    "        return\n",
    "\n",
    "    print(f\"\\n🚀 Seçilen modellerle eğitim başlatılıyor: {', '.join(selected_models)}\")\n",
    "    device = 'cuda' if torch.cuda.is_available() else 'cpu'\n",
    "    print(f\"Cihaz: {device.upper()}\")\n",
    "\n",
    "    try:\n",
    "        pipeline_manager = PipelineManager(models_to_train=selected_models, device=device)\n",
    "        trained_model_paths = pipeline_manager.run_pipeline()\n",
    "\n",
    "        print(\"\\n\" + \"=\"*50 + \"\\n🎉 EĞİTİM TAMAMLANDI 🎉\\n\" + \"=\"*50)\n",
    "\n",
    "        if trained_model_paths:\n",
    "            print(\"\\n⬇️ EĞİTİLMİŞ MODELLERİ İNDİR ⬇️\")\n",
    "            for path in trained_model_paths:\n",
    "                display(FileLink(path))\n",
    "        else:\n",
    "            print(\"\\n❌ Eğitilmiş model dosyası bulunamadı. İndirme linki oluşturulamadı.\")\n",
    "\n",
    "    except Exception as e:\n",
    "        print(f\"\\n❌ Eğitim sırasında beklenmedik bir hata oluştu: {e}\")\n",
    "        traceback.print_exc()\n",
    "\n",
    "# --- Formdan Gelen Değerlerle Eğitimi Başlat ---\n",
    "if all_models_list:\n",
    "    # Formdan seçilen modelleri topla\n",
    "    models_to_train = []\n",
    "    if 'N-Beats' in all_models_list and N_Beats:\n",
    "        models_to_train.append('N-Beats')\n",
    "    if 'TFT' in all_models_list and TFT:\n",
    "        models_to_train.append('TFT')\n",
    "    if 'LSTM' in all_models_list and LSTM:\n",
    "        models_to_train.append('LSTM')\n",
    "    \n",
    "    run_training_from_form(models_to_train)"
   ]
  }
 ],
 "metadata": {
  "kernelspec": {
   "display_name": "Python 3",
   "name": "python3"
  },
  "language_info": {
   "name": "python"
  }
 },
 "nbformat": 4,
 "nbformat_minor": 2
}